{
 "cells": [
  {
   "cell_type": "markdown",
   "id": "781c64f1-8aa1-47d1-952b-97cba84f10f5",
   "metadata": {
    "tags": []
   },
   "source": [
    "# Case Study on Genetic Algorithms using the Knapsack Problem\n",
    "\n",
    "This case study exemplarily demonstrates the programming of a genetiv algorithm and shows why mutation is crucial for genetic algorithms. Furthermore, we simulate scenarios with different numbers of chromosomes and visualize them. \n",
    "\n",
    "## What is a Genetic Algorithm\n",
    "A genetic algorithm is an evolution-inspired algorithm that tries to find the optimal solution by survival of the fittest solution candidates (called chromosomes). It has five stages:\n",
    "\n",
    "1. Creation of initial population\n",
    "2. Evaluation of population by fitness function\n",
    "3. Selection of fittest chromosome\n",
    "4. Crossover of chromosomes to create new population \n",
    "5. Mutation of new chromosome\n",
    "\n",
    "Stages 2-5 are repeated until convergence is achieved. More info can be found [here](https://towardsdatascience.com/introduction-to-genetic-algorithms-including-example-code-e396e98d8bf3).\n",
    "\n",
    "\n",
    "## The Knapsack Problem\n",
    "Provided you have a bag with limited capacity and a set of items with associated weight and value, what is the optimal combination of items to maximize the value of your bag? \n",
    "\n",
    "Or, more practical:\n",
    "\n",
    "Given you managed to break into the tresor of Credit Suisse and are now standing in front of several different high value metals of differing value and weight. What is the value that optimizes the reward of your heist?"
   ]
  },
  {
   "cell_type": "code",
   "execution_count": 1,
   "id": "7567728d-42e3-43ed-9bb8-38c689dcb46d",
   "metadata": {},
   "outputs": [],
   "source": [
    "import numpy as np\n",
    "import pandas as pd \n",
    "\n",
    "%matplotlib inline\n",
    "import matplotlib as mpl\n",
    "import matplotlib.pyplot as plt"
   ]
  },
  {
   "cell_type": "markdown",
   "id": "812307e7-39a0-4cbf-ada5-1e0a9ba2cb1d",
   "metadata": {
    "tags": []
   },
   "source": [
    "## Creation of Item Set\n",
    "\n",
    "A large item set is created to make efficiency gains visible. "
   ]
  },
  {
   "cell_type": "code",
   "execution_count": 2,
   "id": "a5d0bb05-3a06-4b5e-9f9a-8bc051a8d2b9",
   "metadata": {},
   "outputs": [],
   "source": [
    "np.random.seed(42)\n",
    "metal_ingot_number = np.arange(1,1001) \n",
    "weight      = np.random.randint(1,15, size = 1000) \n",
    "value       = np.random.randint(1,750, size = 1000) \n",
    "knapsack_threshold = 35 # capacity of our backpack\n",
    "\n",
    "df = pd.DataFrame({'metal_ingot_number':metal_ingot_number,\n",
    "                   'weight':weight,\n",
    "                   'value':value})"
   ]
  },
  {
   "cell_type": "markdown",
   "id": "135fc0e9-515f-42e0-9d97-b05df2b55f1e",
   "metadata": {},
   "source": [
    "## Creation of Initial Population\n",
    "\n",
    "This population is a random binary initialisation of solutions. If it is 1, the item is included. If it is 0, the item is not included."
   ]
  },
  {
   "cell_type": "code",
   "execution_count": 3,
   "id": "e8d99511-3c2e-4c26-a56c-51e510c1e0cb",
   "metadata": {},
   "outputs": [
    {
     "name": "stdout",
     "output_type": "stream",
     "text": [
      "Our initial population : \n",
      " \n",
      " [[0 1 0 ... 1 1 0]\n",
      " [1 0 0 ... 0 0 0]\n",
      " [0 1 1 ... 0 1 1]\n",
      " ...\n",
      " [0 0 0 ... 1 1 1]\n",
      " [0 0 0 ... 0 0 0]\n",
      " [1 1 0 ... 1 0 0]]\n"
     ]
    }
   ],
   "source": [
    "np.random.seed(42)\n",
    "\n",
    "solutions_per_pop  = 8 \n",
    "pop_size           = (solutions_per_pop, df.shape[0])\n",
    "initial_population = np.random.randint(2, size = pop_size).astype(int)\n",
    "num_generations    = 2500 \n",
    "\n",
    "print('Our initial population : \\n \\n', initial_population)"
   ]
  },
  {
   "cell_type": "markdown",
   "id": "1f894c59-b1ec-4519-a810-89cb8038d8cc",
   "metadata": {},
   "source": [
    "## Exemplary Chromosome Solution Value Display"
   ]
  },
  {
   "cell_type": "code",
   "execution_count": 4,
   "id": "22fd0d23-2c60-4c7c-be70-07ddde272203",
   "metadata": {},
   "outputs": [
    {
     "name": "stdout",
     "output_type": "stream",
     "text": [
      "Selected items in our first chromosome of our starting population:\n",
      "\n",
      "with total weight: \n",
      "\n",
      "3842 \n",
      "\n",
      "and total value: \n",
      "\n",
      "190074\n"
     ]
    }
   ],
   "source": [
    "print('Selected items in our first chromosome of our starting population:\\n')\n",
    "\n",
    "weight_vec = [];\n",
    "value_vec  = [];\n",
    "for i in range(len(initial_population[0])):\n",
    "    if initial_population[0][i] != 0:\n",
    "        weight_vec.append(weight[i])\n",
    "        value_vec.append(value[i])\n",
    "print('with total weight: \\n')\n",
    "print(np.array(weight_vec).sum(),'\\n')\n",
    "print('and total value: \\n')\n",
    "print(np.array(value_vec).sum())"
   ]
  },
  {
   "cell_type": "markdown",
   "id": "aed0fc64-2923-467e-9ed0-8cd34007ad97",
   "metadata": {},
   "source": [
    "We see that this initial solution violates the weight constraint extremely. This is not too surprising, taking into account the way the initial item set is created. Consequently, any optimal solution has to be a sparse chromosome. "
   ]
  },
  {
   "cell_type": "markdown",
   "id": "3185b508-b472-442f-a8b0-33523fb97505",
   "metadata": {},
   "source": [
    "## Design of Fitness Function"
   ]
  },
  {
   "cell_type": "code",
   "execution_count": 5,
   "id": "78ad324e-30df-4c41-98b7-9f83bfc1dbb0",
   "metadata": {},
   "outputs": [],
   "source": [
    "def cal_fitness(weight, value, population, threshold, allow_constraint_violations = True):\n",
    "    \n",
    "    fitness = np.empty(population.shape[0])\n",
    "    \n",
    "    for i in range(population.shape[0]):\n",
    "        metal_value = np.sum(population[i] * value)\n",
    "        metal_weight = np.sum(population[i] * weight)\n",
    "        if metal_weight <= threshold:\n",
    "            fitness[i] = metal_value\n",
    "        elif allow_constraint_violations == True:\n",
    "            fitness[i] = metal_value - 60 * metal_weight\n",
    "        else:\n",
    "            fitness[i] = 0 \n",
    "\n",
    "    return(pd.DataFrame({'fitness': fitness}))"
   ]
  },
  {
   "cell_type": "code",
   "execution_count": 6,
   "id": "2429aa66-d7d1-4fab-b766-23cef079468b",
   "metadata": {},
   "outputs": [
    {
     "data": {
      "text/html": [
       "<div>\n",
       "<style scoped>\n",
       "    .dataframe tbody tr th:only-of-type {\n",
       "        vertical-align: middle;\n",
       "    }\n",
       "\n",
       "    .dataframe tbody tr th {\n",
       "        vertical-align: top;\n",
       "    }\n",
       "\n",
       "    .dataframe thead th {\n",
       "        text-align: right;\n",
       "    }\n",
       "</style>\n",
       "<table border=\"1\" class=\"dataframe\">\n",
       "  <thead>\n",
       "    <tr style=\"text-align: right;\">\n",
       "      <th></th>\n",
       "      <th>fitness</th>\n",
       "    </tr>\n",
       "  </thead>\n",
       "  <tbody>\n",
       "    <tr>\n",
       "      <th>0</th>\n",
       "      <td>-40446.0</td>\n",
       "    </tr>\n",
       "    <tr>\n",
       "      <th>1</th>\n",
       "      <td>-29849.0</td>\n",
       "    </tr>\n",
       "    <tr>\n",
       "      <th>2</th>\n",
       "      <td>-38110.0</td>\n",
       "    </tr>\n",
       "    <tr>\n",
       "      <th>3</th>\n",
       "      <td>-37779.0</td>\n",
       "    </tr>\n",
       "    <tr>\n",
       "      <th>4</th>\n",
       "      <td>-36893.0</td>\n",
       "    </tr>\n",
       "    <tr>\n",
       "      <th>5</th>\n",
       "      <td>-48961.0</td>\n",
       "    </tr>\n",
       "    <tr>\n",
       "      <th>6</th>\n",
       "      <td>-29317.0</td>\n",
       "    </tr>\n",
       "    <tr>\n",
       "      <th>7</th>\n",
       "      <td>-40535.0</td>\n",
       "    </tr>\n",
       "  </tbody>\n",
       "</table>\n",
       "</div>"
      ],
      "text/plain": [
       "   fitness\n",
       "0 -40446.0\n",
       "1 -29849.0\n",
       "2 -38110.0\n",
       "3 -37779.0\n",
       "4 -36893.0\n",
       "5 -48961.0\n",
       "6 -29317.0\n",
       "7 -40535.0"
      ]
     },
     "metadata": {},
     "output_type": "display_data"
    }
   ],
   "source": [
    "fitness_df = cal_fitness(weight, value, initial_population, knapsack_threshold)\n",
    "display(fitness_df)"
   ]
  },
  {
   "cell_type": "markdown",
   "id": "8e92b38c-91b7-4b69-8528-6933f93b0c6e",
   "metadata": {},
   "source": [
    "The initial population violates the constraints by quite a lot. Consequently, they all have negative fitness (or total reward)."
   ]
  },
  {
   "cell_type": "markdown",
   "id": "9f40725c-43b0-4d88-a95c-d7fc33cf8f92",
   "metadata": {},
   "source": [
    "## Selection\n",
    "\n",
    "50 percent of the population survives. Bye bye to the rest!"
   ]
  },
  {
   "cell_type": "code",
   "execution_count": 7,
   "id": "78aee6b8-8a2c-4810-af49-63bfc2fc336d",
   "metadata": {},
   "outputs": [],
   "source": [
    "def selection(fitness_df, population, num_parents, selection = True):\n",
    "    \n",
    "    if selection == True:\n",
    "        parents_df = fitness_df.sort_values('fitness', ascending=False).reset_index()[:num_parents]\n",
    "        parents    = population[parents_df['index']]\n",
    "        \n",
    "    else:\n",
    "        parents_df = fitness_df.sort_values('fitness', ascending=False).reset_index()\n",
    "        parents    = population[parents_df['index']]\n",
    "        \n",
    "    return(parents)\n",
    "\n",
    "selection_df = selection(fitness_df, initial_population, int(pop_size[0]/2))"
   ]
  },
  {
   "cell_type": "markdown",
   "id": "a34a9e82-a6ac-4410-8ee0-e4c7e44c9b11",
   "metadata": {},
   "source": [
    "## Crossover & Mutation\n",
    "\n",
    "Welcome to the mating period! Here, we create new offsprings. The chromosomes then mutate at certain probability.\n",
    "\n",
    "As we want to compare how the algorithm behaves without mutation or crossover, we include loops to either prevent mutation or prevent crossover. We cannot maintain selection and abandon crossover at the same time as we would diminish our population by doing so. Consequently, we duplicate the best samples. "
   ]
  },
  {
   "cell_type": "code",
   "execution_count": 16,
   "id": "686602ff-2b61-4d93-afa0-5f085b7e9eb7",
   "metadata": {},
   "outputs": [],
   "source": [
    "np.random.seed(42)\n",
    "def cross_over_mutation(solutions_per_pop, parents, mutation = True, crossover = True):\n",
    "    \n",
    "    if crossover == True:    \n",
    "        children = [];\n",
    "        desired_length = solutions_per_pop - len(parents)\n",
    "\n",
    "        while len(children) < desired_length :\n",
    "            male   = list(parents[np.random.randint(0,len(parents)-1)])\n",
    "            female = list(parents[np.random.randint(0,len(parents)-1)])\n",
    "            half = int(len(male)/2)\n",
    "            child = male[:half] + female[half:]\n",
    "            children.append(child)\n",
    "            \n",
    "    elif crossover == False: \n",
    "        children = parents\n",
    "        \n",
    "    # Mutation\n",
    "    mutation_chance = 0.08\n",
    "    if mutation == True:\n",
    "        for child in children:\n",
    "            if (mutation_chance > np.random.random()):\n",
    "                r = np.random.randint(0,len(child)-1)\n",
    "                if child[r] == 1:\n",
    "                    child[r] = 0\n",
    "                else:\n",
    "                    child[r] = 1\n",
    "    else:\n",
    "        pass\n",
    "    \n",
    "    population = np.concatenate([parents, children], axis = 0)\n",
    "        \n",
    "    return(population)"
   ]
  },
  {
   "cell_type": "markdown",
   "id": "3c1363b9-b6d5-4fb5-ba4f-845df7b6b5e0",
   "metadata": {},
   "source": [
    "## Optimization Function"
   ]
  },
  {
   "cell_type": "code",
   "execution_count": 15,
   "id": "bcdbeaeb-1a62-49c9-8637-1094601f452a",
   "metadata": {},
   "outputs": [],
   "source": [
    "def optimize(weight, value, population, num_generations, knapsack_threshold, mutation = True, crossover = True):\n",
    "        \n",
    "    pop_size = len(population[0])\n",
    "    \n",
    "    fitness_history = [];\n",
    "    for i in range(num_generations):\n",
    "        #print('Generation : ', i)\n",
    "        fitness_df = cal_fitness(weight, value, population, knapsack_threshold)\n",
    "        parents_df = selection(fitness_df, population, int(len(population)/2))\n",
    "        fitness_history.append(fitness_df)\n",
    "        \n",
    "        if mutation == True and crossover == True:\n",
    "            population = cross_over_mutation(len(population), parents_df)\n",
    "            \n",
    "        elif mutation == False and crossover == True:\n",
    "            population = cross_over_mutation(len(population), parents_df, mutation = False)\n",
    "            \n",
    "        elif mutation == True and crossover == False:\n",
    "            population = cross_over_mutation(len(population), parents_df, crossover = False)\n",
    "            \n",
    "            \n",
    "        \n",
    "    #print('Last generation: \\n{}\\n'.format(population)) \n",
    "    fitness_last_gen_df = cal_fitness(weight, value, population, knapsack_threshold)      \n",
    "    #print('Fitness of the last generation: \\n{}\\n'.format(fitness_last_gen_df))\n",
    "    return(fitness_history)"
   ]
  },
  {
   "cell_type": "markdown",
   "id": "6885cc38-8cce-40a6-abe6-1462ce1f8f10",
   "metadata": {},
   "source": [
    "Quick and dirty solution to simulate 8, 16 and 32 chromosomes:"
   ]
  },
  {
   "cell_type": "code",
   "execution_count": 10,
   "id": "c44e4ce1-6931-4a42-a20e-9b4f6fc56dca",
   "metadata": {},
   "outputs": [
    {
     "name": "stdout",
     "output_type": "stream",
     "text": [
      "Wall time: 1min 45s\n"
     ]
    }
   ],
   "source": [
    "%%time\n",
    "# 8 chromosomes\n",
    "np.random.seed(42)\n",
    "solutions_per_pop  = 8 \n",
    "pop_size           = (solutions_per_pop, df.shape[0])\n",
    "initial_population = np.random.randint(2, size = pop_size).astype(int)\n",
    "num_generations    = 20000\n",
    "\n",
    "fitness_history = optimize(weight, value, initial_population, num_generations, knapsack_threshold)\n",
    "fitness_history_no_mutation = optimize(weight, value, initial_population, num_generations, knapsack_threshold, mutation = False)\n",
    "fitness_history_no_crossover = optimize(weight, value, initial_population, num_generations, knapsack_threshold, crossover = False)"
   ]
  },
  {
   "cell_type": "code",
   "execution_count": 11,
   "id": "82f44f55-46f1-4649-9f14-f9cd05016015",
   "metadata": {},
   "outputs": [
    {
     "name": "stdout",
     "output_type": "stream",
     "text": [
      "Wall time: 2min 31s\n"
     ]
    }
   ],
   "source": [
    "%%time\n",
    "# 16 chromosomes\n",
    "np.random.seed(42)\n",
    "solutions_per_pop  = 16\n",
    "pop_size           = (solutions_per_pop, df.shape[0])\n",
    "initial_population = np.random.randint(2, size = pop_size).astype(int)\n",
    "\n",
    "fitness_history_16 = optimize(weight, value, initial_population, num_generations, knapsack_threshold)\n",
    "fitness_history_no_mutation_16 = optimize(weight, value, initial_population, num_generations, knapsack_threshold, mutation = False)\n",
    "fitness_history_no_crossover_16 = optimize(weight, value, initial_population, num_generations, knapsack_threshold, crossover = False)"
   ]
  },
  {
   "cell_type": "code",
   "execution_count": 12,
   "id": "221ba627-93a5-4b72-9fd9-6f02aaf2c77e",
   "metadata": {},
   "outputs": [
    {
     "name": "stdout",
     "output_type": "stream",
     "text": [
      "Wall time: 3min 42s\n"
     ]
    }
   ],
   "source": [
    "%%time\n",
    "# 32 chromosomes\n",
    "np.random.seed(42)\n",
    "solutions_per_pop  = 32\n",
    "pop_size           = (solutions_per_pop, df.shape[0])\n",
    "initial_population = np.random.randint(2, size = pop_size).astype(int)\n",
    "\n",
    "fitness_history_32 = optimize(weight, value, initial_population, num_generations, knapsack_threshold)\n",
    "fitness_history_no_mutation_32 = optimize(weight, value, initial_population, num_generations, knapsack_threshold, mutation = False)\n",
    "fitness_history_no_crossover_32 = optimize(weight, value, initial_population, num_generations, knapsack_threshold, crossover = False)"
   ]
  },
  {
   "cell_type": "markdown",
   "id": "7d6e70bb-36b4-4780-95e8-e8202b55df5c",
   "metadata": {},
   "source": [
    "## Results and Visualization"
   ]
  },
  {
   "cell_type": "code",
   "execution_count": 13,
   "id": "0b7788b5-6627-48e2-b5e2-7271d72a0dc5",
   "metadata": {},
   "outputs": [
    {
     "data": {
      "image/png": "[encoded data removed]",
      "text/plain": [
       "<Figure size 1080x576 with 1 Axes>"
      ]
     },
     "metadata": {
      "needs_background": "light"
     },
     "output_type": "display_data"
    }
   ],
   "source": [
    "fig, axs = plt.subplots(figsize=(15, 8),nrows=1, ncols=1)\n",
    "plt.style.use('seaborn-whitegrid')\n",
    "\n",
    "fitness_history_max  = [np.max(fitness) for fitness in fitness_history]\n",
    "plt.plot(list(range(num_generations)), fitness_history_max, label = 'Max Fitness | 8')\n",
    "\n",
    "fitness_history_no_mutation_max  = [np.max(fitness) for fitness in fitness_history_no_mutation]\n",
    "plt.plot(list(range(num_generations)), fitness_history_no_mutation_max, label = 'Max Fitness w/o Mutation | 8')\n",
    "\n",
    "fitness_history_no_crossover_max  = [np.max(fitness) for fitness in fitness_history_no_crossover]\n",
    "plt.plot(list(range(num_generations)), fitness_history_no_crossover_max, label = 'Max Fitness w/o Crossover | 8')\n",
    "\n",
    "fitness_history_max_16  = [np.max(fitness) for fitness in fitness_history_16]\n",
    "plt.plot(list(range(num_generations)), fitness_history_max_16, label = 'Max Fitness | 16')\n",
    "\n",
    "fitness_history_no_mutation_max_16  = [np.max(fitness) for fitness in fitness_history_no_mutation_16]\n",
    "plt.plot(list(range(num_generations)), fitness_history_no_mutation_max_16, label = 'Max Fitness w/o Mutation | 16')\n",
    "\n",
    "fitness_history_no_crossover_max_16  = [np.max(fitness) for fitness in fitness_history_no_crossover_16]\n",
    "plt.plot(list(range(num_generations)), fitness_history_no_crossover_max_16, label = 'Max Fitness w/o Crossover | 16')\n",
    "\n",
    "fitness_history_max_32  = [np.max(fitness) for fitness in fitness_history_32]\n",
    "plt.plot(list(range(num_generations)), fitness_history_max_32, label = 'Max Fitness | 32')\n",
    "\n",
    "fitness_history_no_mutation_max_32  = [np.max(fitness) for fitness in fitness_history_no_mutation_32]\n",
    "plt.plot(list(range(num_generations)), fitness_history_no_mutation_max_32, label = 'Max Fitness w/o Mutation | 32')\n",
    "\n",
    "fitness_history_no_crossover_max_32  = [np.max(fitness) for fitness in fitness_history_no_crossover_32]\n",
    "plt.plot(list(range(num_generations)), fitness_history_no_crossover_max_32, label = 'Max Fitness w/o Crossover | 32')\n",
    "\n",
    "\n",
    "\n",
    "plt.legend()\n",
    "plt.title('Fitness throughout the generations')\n",
    "plt.xlabel('Generations')\n",
    "plt.ylabel('Fitness')\n",
    "plt.show()\n",
    "\n",
    "fig.savefig(\"Mutation_on.pdf\")"
   ]
  },
  {
   "cell_type": "markdown",
   "id": "5a0cfddb-bb6b-47db-a712-032fd6d0ed86",
   "metadata": {},
   "source": [
    "## Observations\n",
    "\n",
    "Let's start with the most obvious observation: Mutation is crucial. Scenarios without mutation get stuck once they find the optimum for the random initialisation set. \n",
    "\n",
    "Interestingly enough, implementing crossover does not necessarily lead to huge performance improvements. They diminish with increasing number of chromosomes, which might be happening due to us using random crossover. Other crossover methods might lead to improvement on this end. \n",
    "\n",
    "Furthermore, the more chromosomes you have, the quicker the optimum is reached. This is not surprising as more chromosomes create a larger pool for the selection of the fittest. "
   ]
  },
  {
   "cell_type": "code",
   "execution_count": null,
   "id": "ada76f27-b005-4e89-91de-256c22e4e907",
   "metadata": {},
   "outputs": [],
   "source": []
  }
 ],
 "metadata": {
  "kernelspec": {
   "display_name": "Python 3 (ipykernel)",
   "language": "python",
   "name": "python3"
  },
  "language_info": {
   "codemirror_mode": {
    "name": "ipython",
    "version": 3
   },
   "file_extension": ".py",
   "mimetype": "text/x-python",
   "name": "python",
   "nbconvert_exporter": "python",
   "pygments_lexer": "ipython3",
   "version": "3.7.3"
  }
 },
 "nbformat": 4,
 "nbformat_minor": 5
}
